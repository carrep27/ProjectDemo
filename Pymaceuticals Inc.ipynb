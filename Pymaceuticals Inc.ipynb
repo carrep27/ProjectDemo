{
 "cells": [
  {
   "cell_type": "code",
   "execution_count": 199,
   "metadata": {},
   "outputs": [],
   "source": [
    "#Import Dependencies\n",
    "import random\n",
    "import matplotlib.pyplot as plt\n",
    "import numpy as np\n",
    "from statistics import mean, median, mode\n",
    "import pandas as pd"
   ]
  },
  {
   "cell_type": "code",
   "execution_count": 200,
   "metadata": {},
   "outputs": [],
   "source": [
    "#Read Data\n",
    "clinical_trial_data = pd.read_csv(\"clinicaltrial_data.csv\")\n",
    "mouse_drug_data = pd.read_csv(\"mouse_drug_data.csv\")\n",
    "\n",
    "#merge clinical and drug data on mouse id\n",
    "\n",
    "combined = pd.merge(clinical_trial_data, mouse_drug_data, on=\"Mouse ID\", how=\"outer\")\n"
   ]
  },
  {
   "cell_type": "code",
   "execution_count": 201,
   "metadata": {},
   "outputs": [
    {
     "data": {
      "text/html": [
       "<div>\n",
       "<style scoped>\n",
       "    .dataframe tbody tr th:only-of-type {\n",
       "        vertical-align: middle;\n",
       "    }\n",
       "\n",
       "    .dataframe tbody tr th {\n",
       "        vertical-align: top;\n",
       "    }\n",
       "\n",
       "    .dataframe thead th {\n",
       "        text-align: right;\n",
       "    }\n",
       "</style>\n",
       "<table border=\"1\" class=\"dataframe\">\n",
       "  <thead>\n",
       "    <tr style=\"text-align: right;\">\n",
       "      <th></th>\n",
       "      <th>Tumor Volume (mm3)</th>\n",
       "      <th>Metastatic Sites</th>\n",
       "    </tr>\n",
       "    <tr>\n",
       "      <th>Timepoint</th>\n",
       "      <th></th>\n",
       "      <th></th>\n",
       "    </tr>\n",
       "  </thead>\n",
       "  <tbody>\n",
       "    <tr>\n",
       "      <th>0</th>\n",
       "      <td>45.000000</td>\n",
       "      <td>0.000000</td>\n",
       "    </tr>\n",
       "    <tr>\n",
       "      <th>5</th>\n",
       "      <td>44.266086</td>\n",
       "      <td>0.160000</td>\n",
       "    </tr>\n",
       "    <tr>\n",
       "      <th>10</th>\n",
       "      <td>43.084291</td>\n",
       "      <td>0.320000</td>\n",
       "    </tr>\n",
       "    <tr>\n",
       "      <th>15</th>\n",
       "      <td>42.064317</td>\n",
       "      <td>0.375000</td>\n",
       "    </tr>\n",
       "    <tr>\n",
       "      <th>20</th>\n",
       "      <td>40.716325</td>\n",
       "      <td>0.652174</td>\n",
       "    </tr>\n",
       "    <tr>\n",
       "      <th>25</th>\n",
       "      <td>39.939528</td>\n",
       "      <td>0.818182</td>\n",
       "    </tr>\n",
       "    <tr>\n",
       "      <th>30</th>\n",
       "      <td>38.769339</td>\n",
       "      <td>1.090909</td>\n",
       "    </tr>\n",
       "    <tr>\n",
       "      <th>35</th>\n",
       "      <td>37.816839</td>\n",
       "      <td>1.181818</td>\n",
       "    </tr>\n",
       "    <tr>\n",
       "      <th>40</th>\n",
       "      <td>36.958001</td>\n",
       "      <td>1.380952</td>\n",
       "    </tr>\n",
       "    <tr>\n",
       "      <th>45</th>\n",
       "      <td>36.236114</td>\n",
       "      <td>1.476190</td>\n",
       "    </tr>\n",
       "  </tbody>\n",
       "</table>\n",
       "</div>"
      ],
      "text/plain": [
       "           Tumor Volume (mm3)  Metastatic Sites\n",
       "Timepoint                                      \n",
       "0                   45.000000          0.000000\n",
       "5                   44.266086          0.160000\n",
       "10                  43.084291          0.320000\n",
       "15                  42.064317          0.375000\n",
       "20                  40.716325          0.652174\n",
       "25                  39.939528          0.818182\n",
       "30                  38.769339          1.090909\n",
       "35                  37.816839          1.181818\n",
       "40                  36.958001          1.380952\n",
       "45                  36.236114          1.476190"
      ]
     },
     "execution_count": 201,
     "metadata": {},
     "output_type": "execute_result"
    }
   ],
   "source": [
    "#filter for drug Capomulin\n",
    "Cap = combined.loc[combined[\"Drug\"]==\"Capomulin\"]\n",
    "#get time points which will be our X-axis\n",
    "Timepoints = Cap.groupby(\"Timepoint\")\n",
    "Timepoints.mean()\n",
    "\n",
    "    "
   ]
  },
  {
   "cell_type": "code",
   "execution_count": 202,
   "metadata": {},
   "outputs": [
    {
     "data": {
      "image/png": "[encoded data removed]",
      "text/plain": [
       "<matplotlib.figure.Figure at 0x263211ff898>"
      ]
     },
     "metadata": {},
     "output_type": "display_data"
    }
   ],
   "source": [
    "#create list for X-Value and Y-Values using for loops\n",
    "\n",
    "XCap = []\n",
    "YCap = []\n",
    "\n",
    "for Timepoint, Vol in Timepoints:\n",
    "    XCap.append(Timepoint)\n",
    "    YCap.append(Vol[\"Tumor Volume (mm3)\"].mean())\n",
    "    \n",
    "#create scatter plot\n",
    "\n",
    "fig, ax = plt.subplots()\n",
    "ax.errorbar(XCap, YCap, np.std(YCap),fmt=\"o\")\n",
    "ax.set_xlabel(\"Time\")\n",
    "ax.set_ylabel(\"Tumor Volume\")\n",
    "ax.set_title(\"Capomulin\")\n",
    "plt.show()"
   ]
  },
  {
   "cell_type": "code",
   "execution_count": 203,
   "metadata": {},
   "outputs": [
    {
     "data": {
      "text/html": [
       "<div>\n",
       "<style scoped>\n",
       "    .dataframe tbody tr th:only-of-type {\n",
       "        vertical-align: middle;\n",
       "    }\n",
       "\n",
       "    .dataframe tbody tr th {\n",
       "        vertical-align: top;\n",
       "    }\n",
       "\n",
       "    .dataframe thead th {\n",
       "        text-align: right;\n",
       "    }\n",
       "</style>\n",
       "<table border=\"1\" class=\"dataframe\">\n",
       "  <thead>\n",
       "    <tr style=\"text-align: right;\">\n",
       "      <th></th>\n",
       "      <th>Tumor Volume (mm3)</th>\n",
       "      <th>Metastatic Sites</th>\n",
       "    </tr>\n",
       "    <tr>\n",
       "      <th>Timepoint</th>\n",
       "      <th></th>\n",
       "      <th></th>\n",
       "    </tr>\n",
       "  </thead>\n",
       "  <tbody>\n",
       "    <tr>\n",
       "      <th>0</th>\n",
       "      <td>45.000000</td>\n",
       "      <td>0.000000</td>\n",
       "    </tr>\n",
       "    <tr>\n",
       "      <th>5</th>\n",
       "      <td>47.389175</td>\n",
       "      <td>0.304348</td>\n",
       "    </tr>\n",
       "    <tr>\n",
       "      <th>10</th>\n",
       "      <td>49.582269</td>\n",
       "      <td>0.590909</td>\n",
       "    </tr>\n",
       "    <tr>\n",
       "      <th>15</th>\n",
       "      <td>52.399974</td>\n",
       "      <td>0.842105</td>\n",
       "    </tr>\n",
       "    <tr>\n",
       "      <th>20</th>\n",
       "      <td>54.920935</td>\n",
       "      <td>1.210526</td>\n",
       "    </tr>\n",
       "    <tr>\n",
       "      <th>25</th>\n",
       "      <td>57.678982</td>\n",
       "      <td>1.631579</td>\n",
       "    </tr>\n",
       "    <tr>\n",
       "      <th>30</th>\n",
       "      <td>60.994507</td>\n",
       "      <td>2.055556</td>\n",
       "    </tr>\n",
       "    <tr>\n",
       "      <th>35</th>\n",
       "      <td>63.371686</td>\n",
       "      <td>2.294118</td>\n",
       "    </tr>\n",
       "    <tr>\n",
       "      <th>40</th>\n",
       "      <td>66.068580</td>\n",
       "      <td>2.733333</td>\n",
       "    </tr>\n",
       "    <tr>\n",
       "      <th>45</th>\n",
       "      <td>70.662958</td>\n",
       "      <td>3.363636</td>\n",
       "    </tr>\n",
       "  </tbody>\n",
       "</table>\n",
       "</div>"
      ],
      "text/plain": [
       "           Tumor Volume (mm3)  Metastatic Sites\n",
       "Timepoint                                      \n",
       "0                   45.000000          0.000000\n",
       "5                   47.389175          0.304348\n",
       "10                  49.582269          0.590909\n",
       "15                  52.399974          0.842105\n",
       "20                  54.920935          1.210526\n",
       "25                  57.678982          1.631579\n",
       "30                  60.994507          2.055556\n",
       "35                  63.371686          2.294118\n",
       "40                  66.068580          2.733333\n",
       "45                  70.662958          3.363636"
      ]
     },
     "execution_count": 203,
     "metadata": {},
     "output_type": "execute_result"
    }
   ],
   "source": [
    "#filter for drug Ketapril\n",
    "Ket = combined.loc[combined[\"Drug\"]==\"Ketapril\"]\n",
    "#get time points which will be our X-axis\n",
    "TimepointsK = Ket.groupby(\"Timepoint\")\n",
    "TimepointsK.mean()"
   ]
  },
  {
   "cell_type": "code",
   "execution_count": 204,
   "metadata": {},
   "outputs": [
    {
     "data": {
      "image/png": "[encoded data removed]",
      "text/plain": [
       "<matplotlib.figure.Figure at 0x263211db0b8>"
      ]
     },
     "metadata": {},
     "output_type": "display_data"
    }
   ],
   "source": [
    "#create list for X-Value and Y-Values using for loops\n",
    "\n",
    "XKet = []\n",
    "YKet = []\n",
    "for Timepoint, Vol in TimepointsK:\n",
    "    XKet.append(Timepoint)\n",
    "    YKet.append(Vol[\"Tumor Volume (mm3)\"].mean())\n",
    "\n",
    "#create scatter plot\n",
    "\n",
    "fig, ax = plt.subplots()\n",
    "ax.errorbar(XKet, YKet, np.std(YKet),fmt=\"o\")\n",
    "ax.set_xlabel(\"Time\")\n",
    "ax.set_ylabel(\"Tumor Volume\")\n",
    "ax.set_title(\"Ketapril\")\n",
    "plt.show()"
   ]
  },
  {
   "cell_type": "code",
   "execution_count": 205,
   "metadata": {},
   "outputs": [
    {
     "data": {
      "text/html": [
       "<div>\n",
       "<style scoped>\n",
       "    .dataframe tbody tr th:only-of-type {\n",
       "        vertical-align: middle;\n",
       "    }\n",
       "\n",
       "    .dataframe tbody tr th {\n",
       "        vertical-align: top;\n",
       "    }\n",
       "\n",
       "    .dataframe thead th {\n",
       "        text-align: right;\n",
       "    }\n",
       "</style>\n",
       "<table border=\"1\" class=\"dataframe\">\n",
       "  <thead>\n",
       "    <tr style=\"text-align: right;\">\n",
       "      <th></th>\n",
       "      <th>Tumor Volume (mm3)</th>\n",
       "      <th>Metastatic Sites</th>\n",
       "    </tr>\n",
       "    <tr>\n",
       "      <th>Timepoint</th>\n",
       "      <th></th>\n",
       "      <th></th>\n",
       "    </tr>\n",
       "  </thead>\n",
       "  <tbody>\n",
       "    <tr>\n",
       "      <th>0</th>\n",
       "      <td>45.000000</td>\n",
       "      <td>0.000000</td>\n",
       "    </tr>\n",
       "    <tr>\n",
       "      <th>5</th>\n",
       "      <td>47.062001</td>\n",
       "      <td>0.280000</td>\n",
       "    </tr>\n",
       "    <tr>\n",
       "      <th>10</th>\n",
       "      <td>49.403909</td>\n",
       "      <td>0.666667</td>\n",
       "    </tr>\n",
       "    <tr>\n",
       "      <th>15</th>\n",
       "      <td>51.296397</td>\n",
       "      <td>0.904762</td>\n",
       "    </tr>\n",
       "    <tr>\n",
       "      <th>20</th>\n",
       "      <td>53.197691</td>\n",
       "      <td>1.050000</td>\n",
       "    </tr>\n",
       "    <tr>\n",
       "      <th>25</th>\n",
       "      <td>55.715252</td>\n",
       "      <td>1.277778</td>\n",
       "    </tr>\n",
       "    <tr>\n",
       "      <th>30</th>\n",
       "      <td>58.299397</td>\n",
       "      <td>1.588235</td>\n",
       "    </tr>\n",
       "    <tr>\n",
       "      <th>35</th>\n",
       "      <td>60.742461</td>\n",
       "      <td>1.666667</td>\n",
       "    </tr>\n",
       "    <tr>\n",
       "      <th>40</th>\n",
       "      <td>63.162824</td>\n",
       "      <td>2.100000</td>\n",
       "    </tr>\n",
       "    <tr>\n",
       "      <th>45</th>\n",
       "      <td>65.755562</td>\n",
       "      <td>2.111111</td>\n",
       "    </tr>\n",
       "  </tbody>\n",
       "</table>\n",
       "</div>"
      ],
      "text/plain": [
       "           Tumor Volume (mm3)  Metastatic Sites\n",
       "Timepoint                                      \n",
       "0                   45.000000          0.000000\n",
       "5                   47.062001          0.280000\n",
       "10                  49.403909          0.666667\n",
       "15                  51.296397          0.904762\n",
       "20                  53.197691          1.050000\n",
       "25                  55.715252          1.277778\n",
       "30                  58.299397          1.588235\n",
       "35                  60.742461          1.666667\n",
       "40                  63.162824          2.100000\n",
       "45                  65.755562          2.111111"
      ]
     },
     "execution_count": 205,
     "metadata": {},
     "output_type": "execute_result"
    }
   ],
   "source": [
    "#filter for drug Infubinol\n",
    "Inf = combined.loc[combined[\"Drug\"]==\"Infubinol\"]\n",
    "#get time points which will be our X-axis\n",
    "TimepointsI = Inf.groupby(\"Timepoint\")\n",
    "TimepointsI.mean()"
   ]
  },
  {
   "cell_type": "code",
   "execution_count": 206,
   "metadata": {},
   "outputs": [
    {
     "data": {
      "image/png": "[encoded data removed]",
      "text/plain": [
       "<matplotlib.figure.Figure at 0x263211db6d8>"
      ]
     },
     "metadata": {},
     "output_type": "display_data"
    }
   ],
   "source": [
    "#create list for X-Value and Y-Values using for loops\n",
    "\n",
    "XInf = []\n",
    "YInf = []\n",
    "for Timepoint, Vol in TimepointsI:\n",
    "    XInf.append(Timepoint)\n",
    "    YInf.append(Vol[\"Tumor Volume (mm3)\"].mean())\n",
    "\n",
    "# create scatter plot\n",
    "fig, ax = plt.subplots()\n",
    "ax.errorbar(XInf, YInf, np.std(YInf),fmt=\"o\")\n",
    "ax.set_xlabel(\"Time\")\n",
    "ax.set_ylabel(\"Tumor Volume\")\n",
    "ax.set_title(\"Infubinol\")\n",
    "plt.show()"
   ]
  },
  {
   "cell_type": "code",
   "execution_count": 207,
   "metadata": {},
   "outputs": [
    {
     "data": {
      "text/html": [
       "<div>\n",
       "<style scoped>\n",
       "    .dataframe tbody tr th:only-of-type {\n",
       "        vertical-align: middle;\n",
       "    }\n",
       "\n",
       "    .dataframe tbody tr th {\n",
       "        vertical-align: top;\n",
       "    }\n",
       "\n",
       "    .dataframe thead th {\n",
       "        text-align: right;\n",
       "    }\n",
       "</style>\n",
       "<table border=\"1\" class=\"dataframe\">\n",
       "  <thead>\n",
       "    <tr style=\"text-align: right;\">\n",
       "      <th></th>\n",
       "      <th>Tumor Volume (mm3)</th>\n",
       "      <th>Metastatic Sites</th>\n",
       "    </tr>\n",
       "    <tr>\n",
       "      <th>Timepoint</th>\n",
       "      <th></th>\n",
       "      <th></th>\n",
       "    </tr>\n",
       "  </thead>\n",
       "  <tbody>\n",
       "    <tr>\n",
       "      <th>0</th>\n",
       "      <td>45.000000</td>\n",
       "      <td>0.000000</td>\n",
       "    </tr>\n",
       "    <tr>\n",
       "      <th>5</th>\n",
       "      <td>47.125589</td>\n",
       "      <td>0.375000</td>\n",
       "    </tr>\n",
       "    <tr>\n",
       "      <th>10</th>\n",
       "      <td>49.423329</td>\n",
       "      <td>0.833333</td>\n",
       "    </tr>\n",
       "    <tr>\n",
       "      <th>15</th>\n",
       "      <td>51.359742</td>\n",
       "      <td>1.250000</td>\n",
       "    </tr>\n",
       "    <tr>\n",
       "      <th>20</th>\n",
       "      <td>54.364417</td>\n",
       "      <td>1.526316</td>\n",
       "    </tr>\n",
       "    <tr>\n",
       "      <th>25</th>\n",
       "      <td>57.482574</td>\n",
       "      <td>1.941176</td>\n",
       "    </tr>\n",
       "    <tr>\n",
       "      <th>30</th>\n",
       "      <td>59.809063</td>\n",
       "      <td>2.266667</td>\n",
       "    </tr>\n",
       "    <tr>\n",
       "      <th>35</th>\n",
       "      <td>62.420615</td>\n",
       "      <td>2.642857</td>\n",
       "    </tr>\n",
       "    <tr>\n",
       "      <th>40</th>\n",
       "      <td>65.052675</td>\n",
       "      <td>3.166667</td>\n",
       "    </tr>\n",
       "    <tr>\n",
       "      <th>45</th>\n",
       "      <td>68.084082</td>\n",
       "      <td>3.272727</td>\n",
       "    </tr>\n",
       "  </tbody>\n",
       "</table>\n",
       "</div>"
      ],
      "text/plain": [
       "           Tumor Volume (mm3)  Metastatic Sites\n",
       "Timepoint                                      \n",
       "0                   45.000000          0.000000\n",
       "5                   47.125589          0.375000\n",
       "10                  49.423329          0.833333\n",
       "15                  51.359742          1.250000\n",
       "20                  54.364417          1.526316\n",
       "25                  57.482574          1.941176\n",
       "30                  59.809063          2.266667\n",
       "35                  62.420615          2.642857\n",
       "40                  65.052675          3.166667\n",
       "45                  68.084082          3.272727"
      ]
     },
     "execution_count": 207,
     "metadata": {},
     "output_type": "execute_result"
    }
   ],
   "source": [
    "#filter for drug Placebo\n",
    "Pbo = combined.loc[combined[\"Drug\"]==\"Placebo\"]\n",
    "#get time points which will be our X-axis\n",
    "TimepointsP = Pbo.groupby(\"Timepoint\")\n",
    "TimepointsP.mean()"
   ]
  },
  {
   "cell_type": "code",
   "execution_count": 208,
   "metadata": {},
   "outputs": [
    {
     "data": {
      "image/png": "[encoded data removed]",
      "text/plain": [
       "<matplotlib.figure.Figure at 0x26320d79e10>"
      ]
     },
     "metadata": {},
     "output_type": "display_data"
    }
   ],
   "source": [
    "#create list for X-Value and Y-Values using for loops\n",
    "\n",
    "XPbo = []\n",
    "YPbo = []\n",
    "for Timepoint, Vol in TimepointsP:\n",
    "    XPbo.append(Timepoint)\n",
    "    YPbo.append(Vol[\"Tumor Volume (mm3)\"].mean())\n",
    "\n",
    "#create scatter plot\n",
    "\n",
    "fig, ax = plt.subplots()\n",
    "ax.errorbar(XPbo, YPbo, np.std(YPbo),fmt=\"o\")\n",
    "ax.set_xlabel(\"Time\")\n",
    "ax.set_ylabel(\"Tumor Volume\")\n",
    "ax.set_title(\"Placebo\")\n",
    "plt.show()"
   ]
  },
  {
   "cell_type": "code",
   "execution_count": 209,
   "metadata": {},
   "outputs": [
    {
     "data": {
      "image/png": "[encoded data removed]",
      "text/plain": [
       "<matplotlib.figure.Figure at 0x26320a8cb70>"
      ]
     },
     "metadata": {},
     "output_type": "display_data"
    }
   ],
   "source": [
    "#combine all graphs onto one\n",
    "fig, ax = plt.subplots()\n",
    "ax.errorbar(XCap, YCap, np.std(YCap),fmt=\"o\",color=\"limegreen\")\n",
    "ax.errorbar(XKet, YKet, np.std(YKet),fmt=\"o\",color=\"red\")\n",
    "ax.errorbar(XInf, YInf, np.std(YInf),fmt=\"o\",color=\"blue\")\n",
    "ax.errorbar(XPbo, YPbo, np.std(YPbo),fmt=\"o\",color=\"purple\")\n",
    "ax.set_xlabel(\"Time\")\n",
    "ax.set_ylabel(\"Tumor Volume\")\n",
    "ax.set_title(\"Drug Efficacy Over Time\")\n",
    "plt.legend(labels=[\"Capomulin\",\"Ketapril\",\"Infubinol\",\"Placebo\"],loc=\"best\")\n",
    "plt.show()"
   ]
  },
  {
   "cell_type": "code",
   "execution_count": 210,
   "metadata": {},
   "outputs": [
    {
     "data": {
      "image/png": "[encoded data removed]",
      "text/plain": [
       "<matplotlib.figure.Figure at 0x26320d793c8>"
      ]
     },
     "metadata": {},
     "output_type": "display_data"
    },
    {
     "data": {
      "image/png": "[encoded data removed]",
      "text/plain": [
       "<matplotlib.figure.Figure at 0x2632045cf98>"
      ]
     },
     "metadata": {},
     "output_type": "display_data"
    },
    {
     "data": {
      "image/png": "[encoded data removed]",
      "text/plain": [
       "<matplotlib.figure.Figure at 0x2631ec4abe0>"
      ]
     },
     "metadata": {},
     "output_type": "display_data"
    },
    {
     "data": {
      "image/png": "[encoded data removed]",
      "text/plain": [
       "<matplotlib.figure.Figure at 0x26320ae0ac8>"
      ]
     },
     "metadata": {},
     "output_type": "display_data"
    },
    {
     "data": {
      "image/png": "[encoded data removed]",
      "text/plain": [
       "<matplotlib.figure.Figure at 0x26320da9eb8>"
      ]
     },
     "metadata": {},
     "output_type": "display_data"
    }
   ],
   "source": [
    "#same process as above but Metastatic Sites avergae is used instead of Tumor Volume\n",
    "\n",
    "#filter for drug Capomulin\n",
    "Cap = combined.loc[combined[\"Drug\"]==\"Capomulin\"]\n",
    "#get time points which will be our X-axis\n",
    "TimepointsC = Cap.groupby(\"Timepoint\")\n",
    "TimepointsC.mean()\n",
    "\n",
    "#create list for X-Value and Y-Values using for loops\n",
    "\n",
    "XCap = []\n",
    "YCap2 = []\n",
    "\n",
    "for Timepoint, Sites in TimepointsC:\n",
    "    XCap.append(Timepoint)\n",
    "    YCap2.append(Sites[\"Metastatic Sites\"].mean())\n",
    "    \n",
    "#create scatter plot\n",
    "\n",
    "fig, ax = plt.subplots()\n",
    "ax.errorbar(XCap, YCap2, np.std(YCap2),fmt=\"o\")\n",
    "ax.set_xlabel(\"Time\")\n",
    "ax.set_ylabel(\"Metastatic Sites\")\n",
    "ax.set_title(\"Capomulin\")\n",
    "plt.show()\n",
    "\n",
    "#filter for drug Ketapril\n",
    "Ket = combined.loc[combined[\"Drug\"]==\"Ketapril\"]\n",
    "#get time points which will be our X-axis\n",
    "TimepointsK = Ket.groupby(\"Timepoint\")\n",
    "TimepointsK.mean()\n",
    "\n",
    "#create list for X-Value and Y-Values using for loops\n",
    "\n",
    "XKet = []\n",
    "YKet2 = []\n",
    "for Timepoint, Sites in TimepointsK:\n",
    "    XKet.append(Timepoint)\n",
    "    YKet2.append(Sites[\"Metastatic Sites\"].mean())\n",
    "\n",
    "#create scatter plot\n",
    "\n",
    "fig, ax = plt.subplots()\n",
    "ax.errorbar(XKet, YKet2, np.std(YKet2),fmt=\"o\")\n",
    "ax.set_xlabel(\"Time\")\n",
    "ax.set_ylabel(\"Metastatic Sites\")\n",
    "ax.set_title(\"Ketapril\")\n",
    "plt.show()\n",
    "\n",
    "#filter for drug Infubinol\n",
    "Inf = combined.loc[combined[\"Drug\"]==\"Infubinol\"]\n",
    "#get time points which will be our X-axis\n",
    "TimepointsI = Inf.groupby(\"Timepoint\")\n",
    "TimepointsI.mean()\n",
    "#create list for X-Value and Y-Values using for loops\n",
    "\n",
    "XInf = []\n",
    "YInf2 = []\n",
    "for Timepoint, Sites in TimepointsI:\n",
    "    XInf.append(Timepoint)\n",
    "    YInf2.append(Sites[\"Metastatic Sites\"].mean())\n",
    "\n",
    "# create scatter plot\n",
    "fig, ax = plt.subplots()\n",
    "ax.errorbar(XInf, YInf2, np.std(YInf2),fmt=\"o\")\n",
    "ax.set_xlabel(\"Time\")\n",
    "ax.set_ylabel(\"Metastatic Sites\")\n",
    "ax.set_title(\"Infubinol\")\n",
    "plt.show()\n",
    "\n",
    "#filter for drug Placebo\n",
    "Pbo = combined.loc[combined[\"Drug\"]==\"Placebo\"]\n",
    "#get time points which will be our X-axis\n",
    "TimepointsP = Pbo.groupby(\"Timepoint\")\n",
    "TimepointsP.mean()\n",
    "#create list for X-Value and Y-Values using for loops\n",
    "\n",
    "XPbo = []\n",
    "YPbo2 = []\n",
    "for Timepoint, Sites in TimepointsP:\n",
    "    XPbo.append(Timepoint)\n",
    "    YPbo2.append(Sites[\"Metastatic Sites\"].mean())\n",
    "\n",
    "#create scatter plot\n",
    "\n",
    "fig, ax = plt.subplots()\n",
    "ax.errorbar(XPbo, YPbo2, np.std(YPbo2),fmt=\"o\")\n",
    "ax.set_xlabel(\"Time\")\n",
    "ax.set_ylabel(\"Metastatic Sites\")\n",
    "ax.set_title(\"Placebo\")\n",
    "plt.show()\n",
    "#combine all graphs onto one\n",
    "fig, ax = plt.subplots()\n",
    "ax.errorbar(XCap, YCap2, np.std(YCap2),fmt=\"o\",color=\"limegreen\")\n",
    "ax.errorbar(XKet, YKet2, np.std(YKet2),fmt=\"o\",color=\"red\")\n",
    "ax.errorbar(XInf, YInf2, np.std(YInf2),fmt=\"o\",color=\"blue\")\n",
    "ax.errorbar(XPbo, YPbo2, np.std(YPbo2),fmt=\"o\",color=\"purple\")\n",
    "ax.set_xlabel(\"Time\")\n",
    "ax.set_ylabel(\"Metastatic Sites\")\n",
    "ax.set_title(\"Metastatic Sites Over Time\")\n",
    "plt.legend(labels=[\"Capomulin\",\"Ketapril\",\"Infubinol\",\"Placebo\"],loc=\"best\")\n",
    "plt.show()\n"
   ]
  },
  {
   "cell_type": "code",
   "execution_count": 211,
   "metadata": {},
   "outputs": [
    {
     "data": {
      "image/png": "[encoded data removed]",
      "text/plain": [
       "<matplotlib.figure.Figure at 0x26320832908>"
      ]
     },
     "metadata": {},
     "output_type": "display_data"
    },
    {
     "data": {
      "image/png": "[encoded data removed]",
      "text/plain": [
       "<matplotlib.figure.Figure at 0x2631fe28f60>"
      ]
     },
     "metadata": {},
     "output_type": "display_data"
    },
    {
     "data": {
      "image/png": "[encoded data removed]",
      "text/plain": [
       "<matplotlib.figure.Figure at 0x26320b253c8>"
      ]
     },
     "metadata": {},
     "output_type": "display_data"
    },
    {
     "data": {
      "image/png": "[encoded data removed]",
      "text/plain": [
       "<matplotlib.figure.Figure at 0x2632079add8>"
      ]
     },
     "metadata": {},
     "output_type": "display_data"
    },
    {
     "data": {
      "image/png": "[encoded data removed]",
      "text/plain": [
       "<matplotlib.figure.Figure at 0x26320860978>"
      ]
     },
     "metadata": {},
     "output_type": "display_data"
    }
   ],
   "source": [
    "#same process as above but using Mouse ID Count in order to get mouse mortatilty rate\n",
    "\n",
    "#filter for drug Capomulin\n",
    "Cap = combined.loc[combined[\"Drug\"]==\"Capomulin\"]\n",
    "#get time points which will be our X-axis\n",
    "TimepointsC = Cap.groupby(\"Timepoint\")\n",
    "TimepointsC.mean()\n",
    "\n",
    "#create list for X-Value and Y-Values using for loops\n",
    "\n",
    "XCap = []\n",
    "YCap3 = []\n",
    "\n",
    "for Timepoint, Mouse in TimepointsC:\n",
    "    XCap.append(Timepoint)\n",
    "    YCap3.append(Mouse[\"Mouse ID\"].count())\n",
    "    \n",
    "#create scatter plot\n",
    "\n",
    "fig, ax = plt.subplots()\n",
    "ax.errorbar(XCap, YCap3, np.std(YCap3),fmt=\"o\")\n",
    "ax.set_xlabel(\"Time\")\n",
    "ax.set_ylabel(\"Mice\")\n",
    "ax.set_title(\"Capomulin\")\n",
    "plt.show()\n",
    "\n",
    "#filter for drug Ketapril\n",
    "Ket = combined.loc[combined[\"Drug\"]==\"Ketapril\"]\n",
    "#get time points which will be our X-axis\n",
    "TimepointsK = Ket.groupby(\"Timepoint\")\n",
    "TimepointsK.mean()\n",
    "\n",
    "#create list for X-Value and Y-Values using for loops\n",
    "\n",
    "XKet = []\n",
    "YKet3 = []\n",
    "for Timepoint, Mouse in TimepointsK:\n",
    "    XKet.append(Timepoint)\n",
    "    YKet3.append(Mouse[\"Mouse ID\"].count())\n",
    "\n",
    "#create scatter plot\n",
    "\n",
    "fig, ax = plt.subplots()\n",
    "ax.errorbar(XKet, YKet3, np.std(YKet3),fmt=\"o\")\n",
    "ax.set_xlabel(\"Time\")\n",
    "ax.set_ylabel(\"Mice\")\n",
    "ax.set_title(\"Ketapril\")\n",
    "plt.show()\n",
    "\n",
    "#filter for drug Infubinol\n",
    "Inf = combined.loc[combined[\"Drug\"]==\"Infubinol\"]\n",
    "#get time points which will be our X-axis\n",
    "TimepointsI = Inf.groupby(\"Timepoint\")\n",
    "TimepointsI.mean()\n",
    "#create list for X-Value and Y-Values using for loops\n",
    "\n",
    "XInf = []\n",
    "YInf3 = []\n",
    "for Timepoint, Sites in TimepointsI:\n",
    "    XInf.append(Timepoint)\n",
    "    YInf3.append(Sites[\"Mouse ID\"].count())\n",
    "\n",
    "# create scatter plot\n",
    "fig, ax = plt.subplots()\n",
    "ax.errorbar(XInf, YInf3, np.std(YInf3),fmt=\"o\")\n",
    "ax.set_xlabel(\"Time\")\n",
    "ax.set_ylabel(\"Mice\")\n",
    "ax.set_title(\"Infubinol\")\n",
    "plt.show()\n",
    "\n",
    "#filter for drug Placebo\n",
    "Pbo = combined.loc[combined[\"Drug\"]==\"Placebo\"]\n",
    "#get time points which will be our X-axis\n",
    "TimepointsP = Pbo.groupby(\"Timepoint\")\n",
    "TimepointsP.mean()\n",
    "#create list for X-Value and Y-Values using for loops\n",
    "\n",
    "XPbo = []\n",
    "YPbo3 = []\n",
    "for Timepoint, Sites in TimepointsP:\n",
    "    XPbo.append(Timepoint)\n",
    "    YPbo3.append(Sites[\"Mouse ID\"].count())\n",
    "\n",
    "#create scatter plot\n",
    "\n",
    "fig, ax = plt.subplots()\n",
    "ax.errorbar(XPbo, YPbo3, np.std(YPbo3),fmt=\"o\")\n",
    "ax.set_xlabel(\"Time\")\n",
    "ax.set_ylabel(\"Mice\")\n",
    "ax.set_title(\"Placebo\")\n",
    "plt.show()\n",
    "#combine all graphs onto one\n",
    "fig, ax = plt.subplots()\n",
    "ax.errorbar(XCap, YCap3, np.std(YCap3),fmt=\"o\",color=\"limegreen\")\n",
    "ax.errorbar(XKet, YKet3, np.std(YKet3),fmt=\"o\",color=\"red\")\n",
    "ax.errorbar(XInf, YInf3, np.std(YInf3),fmt=\"o\",color=\"blue\")\n",
    "ax.errorbar(XPbo, YPbo3, np.std(YPbo3),fmt=\"o\",color=\"purple\")\n",
    "ax.set_xlabel(\"Time\")\n",
    "ax.set_ylabel(\"Mouse Count\")\n",
    "ax.set_title(\"Living Mouse Count Over Time\")\n",
    "plt.legend(labels=[\"Capomulin\",\"Ketapril\",\"Infubinol\",\"Placebo\"],loc=\"best\")\n",
    "plt.show()"
   ]
  },
  {
   "cell_type": "code",
   "execution_count": 212,
   "metadata": {},
   "outputs": [
    {
     "data": {
      "image/png": "[encoded data removed]",
      "text/plain": [
       "<matplotlib.figure.Figure at 0x26320ae0780>"
      ]
     },
     "metadata": {},
     "output_type": "display_data"
    }
   ],
   "source": [
    "#get % change growth using formula (new-original)/original. \n",
    "#original value assumed to be 0.01\n",
    "\n",
    "capperchange = (YCap2[-1]-0.01)/(0.01)\n",
    "ketperchange = (YKet2[-1]-0.01)/0.01\n",
    "infperchange = (YInf2[-1]-0.01)/0.01\n",
    "pboperchange = (YPbo2[-1]-0.01)/0.01\n",
    "\n",
    "#create bar chart showing % growth change\n",
    "\n",
    "drugs = [\"Capomulin\",\"Ketapril\",\"Infubinol\",\"Placebo\"]\n",
    "xvalues = [\"Capomulin\",\"Ketapril\",\"Infubinol\",\"Placebo\"]\n",
    "yvalues = (capperchange,ketperchange,infperchange,pboperchange)           \n",
    "\n",
    "fig, ax = plt.subplots()\n",
    "index = xvalues\n",
    "bar_width= 0.35\n",
    "opacity = 0.4\n",
    "rects1 = ax.bar(index, yvalues, bar_width, alpha = 0.4, color=\"b\")\n",
    "\n",
    "ax.set_xlabel(\"Drug\")\n",
    "ax.set_ylabel(\"% Growth\")\n",
    "ax.set_title(\"Metastic Site Growth Over Time (inital growth assumed at 0.01)\")\n",
    "ax.set_xticks(index)\n",
    "ax.set_xticklabels(drugs)\n",
    "fig.tight_layout()\n",
    "plt.show()\n",
    "\n"
   ]
  },
  {
   "cell_type": "markdown",
   "metadata": {},
   "source": [
    "Observations\n",
    "Capomulin had the greatest affect on tumor growth (indicated by fewer metatstatic sites versus Placebo) \n",
    "Capolmulin kept the most mice alive and showed the least amount of tumorw growth.\n",
    "Ketapril showed greater metastatic growth than the placebo trials. \n",
    "Second best drug would appear to be Infubinol althouhg that drug had the greatest mortality rate. \n"
   ]
  },
  {
   "cell_type": "code",
   "execution_count": null,
   "metadata": {},
   "outputs": [],
   "source": []
  }
 ],
 "metadata": {
  "kernelspec": {
   "display_name": "Python [conda env:PythonData]",
   "language": "python",
   "name": "conda-env-PythonData-py"
  },
  "language_info": {
   "codemirror_mode": {
    "name": "ipython",
    "version": 3
   },
   "file_extension": ".py",
   "mimetype": "text/x-python",
   "name": "python",
   "nbconvert_exporter": "python",
   "pygments_lexer": "ipython3",
   "version": "3.6.4"
  }
 },
 "nbformat": 4,
 "nbformat_minor": 2
}
